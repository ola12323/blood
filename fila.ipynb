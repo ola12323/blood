{
 "cells": [
  {
   "cell_type": "code",
   "execution_count": 1,
   "id": "993a1a9b",
   "metadata": {},
   "outputs": [],
   "source": [
    "import pandas as pd\n",
    "import numpy as np"
   ]
  },
  {
   "cell_type": "code",
   "execution_count": 2,
   "id": "ed2c2f0f",
   "metadata": {},
   "outputs": [],
   "source": [
    "data = pd.read_csv(\"fila.csv\")"
   ]
  },
  {
   "cell_type": "code",
   "execution_count": 3,
   "id": "362a9dbd",
   "metadata": {},
   "outputs": [
    {
     "data": {
      "text/html": [
       "<div>\n",
       "<style scoped>\n",
       "    .dataframe tbody tr th:only-of-type {\n",
       "        vertical-align: middle;\n",
       "    }\n",
       "\n",
       "    .dataframe tbody tr th {\n",
       "        vertical-align: top;\n",
       "    }\n",
       "\n",
       "    .dataframe thead th {\n",
       "        text-align: right;\n",
       "    }\n",
       "</style>\n",
       "<table border=\"1\" class=\"dataframe\">\n",
       "  <thead>\n",
       "    <tr style=\"text-align: right;\">\n",
       "      <th></th>\n",
       "      <th>blood_diseases</th>\n",
       "      <th>age</th>\n",
       "      <th>weight</th>\n",
       "      <th>hemoglobin_level</th>\n",
       "      <th>period_between_successive_blood_donations</th>\n",
       "      <th>temperature</th>\n",
       "      <th>pulse_rate</th>\n",
       "    </tr>\n",
       "  </thead>\n",
       "  <tbody>\n",
       "    <tr>\n",
       "      <th>0</th>\n",
       "      <td>1</td>\n",
       "      <td>68</td>\n",
       "      <td>67</td>\n",
       "      <td>14.7</td>\n",
       "      <td>26</td>\n",
       "      <td>36.5</td>\n",
       "      <td>86.1</td>\n",
       "    </tr>\n",
       "    <tr>\n",
       "      <th>1</th>\n",
       "      <td>0</td>\n",
       "      <td>31</td>\n",
       "      <td>76</td>\n",
       "      <td>13.5</td>\n",
       "      <td>23</td>\n",
       "      <td>36.5</td>\n",
       "      <td>56.7</td>\n",
       "    </tr>\n",
       "    <tr>\n",
       "      <th>2</th>\n",
       "      <td>0</td>\n",
       "      <td>45</td>\n",
       "      <td>83</td>\n",
       "      <td>16.3</td>\n",
       "      <td>22</td>\n",
       "      <td>38.3</td>\n",
       "      <td>96.9</td>\n",
       "    </tr>\n",
       "    <tr>\n",
       "      <th>3</th>\n",
       "      <td>0</td>\n",
       "      <td>30</td>\n",
       "      <td>74</td>\n",
       "      <td>12.6</td>\n",
       "      <td>4</td>\n",
       "      <td>38.1</td>\n",
       "      <td>90.9</td>\n",
       "    </tr>\n",
       "    <tr>\n",
       "      <th>4</th>\n",
       "      <td>0</td>\n",
       "      <td>25</td>\n",
       "      <td>58</td>\n",
       "      <td>14.9</td>\n",
       "      <td>9</td>\n",
       "      <td>36.3</td>\n",
       "      <td>55.9</td>\n",
       "    </tr>\n",
       "  </tbody>\n",
       "</table>\n",
       "</div>"
      ],
      "text/plain": [
       "   blood_diseases  age  weight  hemoglobin_level  \\\n",
       "0               1   68      67              14.7   \n",
       "1               0   31      76              13.5   \n",
       "2               0   45      83              16.3   \n",
       "3               0   30      74              12.6   \n",
       "4               0   25      58              14.9   \n",
       "\n",
       "   period_between_successive_blood_donations  temperature  pulse_rate  \n",
       "0                                         26         36.5        86.1  \n",
       "1                                         23         36.5        56.7  \n",
       "2                                         22         38.3        96.9  \n",
       "3                                          4         38.1        90.9  \n",
       "4                                          9         36.3        55.9  "
      ]
     },
     "execution_count": 3,
     "metadata": {},
     "output_type": "execute_result"
    }
   ],
   "source": [
    "data.head()"
   ]
  },
  {
   "cell_type": "code",
   "execution_count": 4,
   "id": "94b82c43",
   "metadata": {},
   "outputs": [],
   "source": [
    "data['can'] = (data['weight'] < 50) | (data['age'] > 65) | (data['hemoglobin_level'] < 12) | (data['period_between_successive_blood_donations'] < 3)| (data['temperature'] >= 37.6) | (data['pulse_rate'] < 50) | (data['pulse_rate'] > 100) == 0"
   ]
  },
  {
   "cell_type": "code",
   "execution_count": 5,
   "id": "da6151fe",
   "metadata": {},
   "outputs": [
    {
     "data": {
      "text/html": [
       "<div>\n",
       "<style scoped>\n",
       "    .dataframe tbody tr th:only-of-type {\n",
       "        vertical-align: middle;\n",
       "    }\n",
       "\n",
       "    .dataframe tbody tr th {\n",
       "        vertical-align: top;\n",
       "    }\n",
       "\n",
       "    .dataframe thead th {\n",
       "        text-align: right;\n",
       "    }\n",
       "</style>\n",
       "<table border=\"1\" class=\"dataframe\">\n",
       "  <thead>\n",
       "    <tr style=\"text-align: right;\">\n",
       "      <th></th>\n",
       "      <th>blood_diseases</th>\n",
       "      <th>age</th>\n",
       "      <th>weight</th>\n",
       "      <th>hemoglobin_level</th>\n",
       "      <th>period_between_successive_blood_donations</th>\n",
       "      <th>temperature</th>\n",
       "      <th>pulse_rate</th>\n",
       "      <th>can</th>\n",
       "    </tr>\n",
       "  </thead>\n",
       "  <tbody>\n",
       "    <tr>\n",
       "      <th>0</th>\n",
       "      <td>1</td>\n",
       "      <td>68</td>\n",
       "      <td>67</td>\n",
       "      <td>14.7</td>\n",
       "      <td>26</td>\n",
       "      <td>36.5</td>\n",
       "      <td>86.1</td>\n",
       "      <td>False</td>\n",
       "    </tr>\n",
       "    <tr>\n",
       "      <th>1</th>\n",
       "      <td>0</td>\n",
       "      <td>31</td>\n",
       "      <td>76</td>\n",
       "      <td>13.5</td>\n",
       "      <td>23</td>\n",
       "      <td>36.5</td>\n",
       "      <td>56.7</td>\n",
       "      <td>True</td>\n",
       "    </tr>\n",
       "    <tr>\n",
       "      <th>2</th>\n",
       "      <td>0</td>\n",
       "      <td>45</td>\n",
       "      <td>83</td>\n",
       "      <td>16.3</td>\n",
       "      <td>22</td>\n",
       "      <td>38.3</td>\n",
       "      <td>96.9</td>\n",
       "      <td>False</td>\n",
       "    </tr>\n",
       "    <tr>\n",
       "      <th>3</th>\n",
       "      <td>0</td>\n",
       "      <td>30</td>\n",
       "      <td>74</td>\n",
       "      <td>12.6</td>\n",
       "      <td>4</td>\n",
       "      <td>38.1</td>\n",
       "      <td>90.9</td>\n",
       "      <td>False</td>\n",
       "    </tr>\n",
       "    <tr>\n",
       "      <th>4</th>\n",
       "      <td>0</td>\n",
       "      <td>25</td>\n",
       "      <td>58</td>\n",
       "      <td>14.9</td>\n",
       "      <td>9</td>\n",
       "      <td>36.3</td>\n",
       "      <td>55.9</td>\n",
       "      <td>True</td>\n",
       "    </tr>\n",
       "  </tbody>\n",
       "</table>\n",
       "</div>"
      ],
      "text/plain": [
       "   blood_diseases  age  weight  hemoglobin_level  \\\n",
       "0               1   68      67              14.7   \n",
       "1               0   31      76              13.5   \n",
       "2               0   45      83              16.3   \n",
       "3               0   30      74              12.6   \n",
       "4               0   25      58              14.9   \n",
       "\n",
       "   period_between_successive_blood_donations  temperature  pulse_rate    can  \n",
       "0                                         26         36.5        86.1  False  \n",
       "1                                         23         36.5        56.7   True  \n",
       "2                                         22         38.3        96.9  False  \n",
       "3                                          4         38.1        90.9  False  \n",
       "4                                          9         36.3        55.9   True  "
      ]
     },
     "execution_count": 5,
     "metadata": {},
     "output_type": "execute_result"
    }
   ],
   "source": [
    "data.head()\n"
   ]
  },
  {
   "cell_type": "code",
   "execution_count": 6,
   "id": "ce03cad9",
   "metadata": {},
   "outputs": [],
   "source": [
    "data[\"can\"] = data[\"can\"].astype(int)"
   ]
  },
  {
   "cell_type": "code",
   "execution_count": 7,
   "id": "3ac6a5b3",
   "metadata": {},
   "outputs": [
    {
     "data": {
      "text/html": [
       "<div>\n",
       "<style scoped>\n",
       "    .dataframe tbody tr th:only-of-type {\n",
       "        vertical-align: middle;\n",
       "    }\n",
       "\n",
       "    .dataframe tbody tr th {\n",
       "        vertical-align: top;\n",
       "    }\n",
       "\n",
       "    .dataframe thead th {\n",
       "        text-align: right;\n",
       "    }\n",
       "</style>\n",
       "<table border=\"1\" class=\"dataframe\">\n",
       "  <thead>\n",
       "    <tr style=\"text-align: right;\">\n",
       "      <th></th>\n",
       "      <th>blood_diseases</th>\n",
       "      <th>age</th>\n",
       "      <th>weight</th>\n",
       "      <th>hemoglobin_level</th>\n",
       "      <th>period_between_successive_blood_donations</th>\n",
       "      <th>temperature</th>\n",
       "      <th>pulse_rate</th>\n",
       "      <th>can</th>\n",
       "    </tr>\n",
       "  </thead>\n",
       "  <tbody>\n",
       "    <tr>\n",
       "      <th>0</th>\n",
       "      <td>1</td>\n",
       "      <td>68</td>\n",
       "      <td>67</td>\n",
       "      <td>14.7</td>\n",
       "      <td>26</td>\n",
       "      <td>36.5</td>\n",
       "      <td>86.1</td>\n",
       "      <td>0</td>\n",
       "    </tr>\n",
       "    <tr>\n",
       "      <th>1</th>\n",
       "      <td>0</td>\n",
       "      <td>31</td>\n",
       "      <td>76</td>\n",
       "      <td>13.5</td>\n",
       "      <td>23</td>\n",
       "      <td>36.5</td>\n",
       "      <td>56.7</td>\n",
       "      <td>1</td>\n",
       "    </tr>\n",
       "    <tr>\n",
       "      <th>2</th>\n",
       "      <td>0</td>\n",
       "      <td>45</td>\n",
       "      <td>83</td>\n",
       "      <td>16.3</td>\n",
       "      <td>22</td>\n",
       "      <td>38.3</td>\n",
       "      <td>96.9</td>\n",
       "      <td>0</td>\n",
       "    </tr>\n",
       "    <tr>\n",
       "      <th>3</th>\n",
       "      <td>0</td>\n",
       "      <td>30</td>\n",
       "      <td>74</td>\n",
       "      <td>12.6</td>\n",
       "      <td>4</td>\n",
       "      <td>38.1</td>\n",
       "      <td>90.9</td>\n",
       "      <td>0</td>\n",
       "    </tr>\n",
       "    <tr>\n",
       "      <th>4</th>\n",
       "      <td>0</td>\n",
       "      <td>25</td>\n",
       "      <td>58</td>\n",
       "      <td>14.9</td>\n",
       "      <td>9</td>\n",
       "      <td>36.3</td>\n",
       "      <td>55.9</td>\n",
       "      <td>1</td>\n",
       "    </tr>\n",
       "  </tbody>\n",
       "</table>\n",
       "</div>"
      ],
      "text/plain": [
       "   blood_diseases  age  weight  hemoglobin_level  \\\n",
       "0               1   68      67              14.7   \n",
       "1               0   31      76              13.5   \n",
       "2               0   45      83              16.3   \n",
       "3               0   30      74              12.6   \n",
       "4               0   25      58              14.9   \n",
       "\n",
       "   period_between_successive_blood_donations  temperature  pulse_rate  can  \n",
       "0                                         26         36.5        86.1    0  \n",
       "1                                         23         36.5        56.7    1  \n",
       "2                                         22         38.3        96.9    0  \n",
       "3                                          4         38.1        90.9    0  \n",
       "4                                          9         36.3        55.9    1  "
      ]
     },
     "execution_count": 7,
     "metadata": {},
     "output_type": "execute_result"
    }
   ],
   "source": [
    "data.head()"
   ]
  },
  {
   "cell_type": "code",
   "execution_count": 34,
   "id": "c947a7e4",
   "metadata": {},
   "outputs": [],
   "source": [
    "data.to_csv('File.csv')"
   ]
  },
  {
   "cell_type": "code",
   "execution_count": 8,
   "id": "1789fb06",
   "metadata": {},
   "outputs": [
    {
     "name": "stdout",
     "output_type": "stream",
     "text": [
      "<class 'pandas.core.frame.DataFrame'>\n",
      "RangeIndex: 5000 entries, 0 to 4999\n",
      "Data columns (total 8 columns):\n",
      " #   Column                                     Non-Null Count  Dtype  \n",
      "---  ------                                     --------------  -----  \n",
      " 0   blood_diseases                             5000 non-null   int64  \n",
      " 1   age                                        5000 non-null   int64  \n",
      " 2   weight                                     5000 non-null   int64  \n",
      " 3   hemoglobin_level                           5000 non-null   float64\n",
      " 4   period_between_successive_blood_donations  5000 non-null   int64  \n",
      " 5   temperature                                5000 non-null   float64\n",
      " 6   pulse_rate                                 5000 non-null   float64\n",
      " 7   can                                        5000 non-null   int32  \n",
      "dtypes: float64(3), int32(1), int64(4)\n",
      "memory usage: 293.1 KB\n"
     ]
    }
   ],
   "source": [
    "data.info()"
   ]
  },
  {
   "cell_type": "code",
   "execution_count": 9,
   "id": "0497a633",
   "metadata": {},
   "outputs": [
    {
     "data": {
      "text/plain": [
       "blood_diseases                               0\n",
       "age                                          0\n",
       "weight                                       0\n",
       "hemoglobin_level                             0\n",
       "period_between_successive_blood_donations    0\n",
       "temperature                                  0\n",
       "pulse_rate                                   0\n",
       "can                                          0\n",
       "dtype: int64"
      ]
     },
     "execution_count": 9,
     "metadata": {},
     "output_type": "execute_result"
    }
   ],
   "source": [
    "data.isnull().sum()"
   ]
  },
  {
   "cell_type": "code",
   "execution_count": 10,
   "id": "d000f230",
   "metadata": {},
   "outputs": [
    {
     "data": {
      "text/plain": [
       "Index(['blood_diseases', 'age', 'weight', 'hemoglobin_level',\n",
       "       'period_between_successive_blood_donations', 'temperature',\n",
       "       'pulse_rate', 'can'],\n",
       "      dtype='object')"
      ]
     },
     "execution_count": 10,
     "metadata": {},
     "output_type": "execute_result"
    }
   ],
   "source": [
    "data.columns"
   ]
  },
  {
   "cell_type": "code",
   "execution_count": 11,
   "id": "b842562a",
   "metadata": {},
   "outputs": [],
   "source": [
    "y=data['can']"
   ]
  },
  {
   "cell_type": "code",
   "execution_count": 12,
   "id": "66a4b125",
   "metadata": {},
   "outputs": [
    {
     "data": {
      "text/plain": [
       "0       0\n",
       "1       1\n",
       "2       0\n",
       "3       0\n",
       "4       1\n",
       "       ..\n",
       "4995    0\n",
       "4996    0\n",
       "4997    0\n",
       "4998    0\n",
       "4999    1\n",
       "Name: can, Length: 5000, dtype: int32"
      ]
     },
     "execution_count": 12,
     "metadata": {},
     "output_type": "execute_result"
    }
   ],
   "source": [
    "y"
   ]
  },
  {
   "cell_type": "code",
   "execution_count": 13,
   "id": "105a8a00",
   "metadata": {},
   "outputs": [],
   "source": [
    "x = data[['blood_diseases', 'age', 'weight', 'hemoglobin_level',\n",
    "       'period_between_successive_blood_donations', 'temperature',\n",
    "       'pulse_rate']]"
   ]
  },
  {
   "cell_type": "code",
   "execution_count": 14,
   "id": "1fb316dc",
   "metadata": {},
   "outputs": [
    {
     "data": {
      "text/html": [
       "<div>\n",
       "<style scoped>\n",
       "    .dataframe tbody tr th:only-of-type {\n",
       "        vertical-align: middle;\n",
       "    }\n",
       "\n",
       "    .dataframe tbody tr th {\n",
       "        vertical-align: top;\n",
       "    }\n",
       "\n",
       "    .dataframe thead th {\n",
       "        text-align: right;\n",
       "    }\n",
       "</style>\n",
       "<table border=\"1\" class=\"dataframe\">\n",
       "  <thead>\n",
       "    <tr style=\"text-align: right;\">\n",
       "      <th></th>\n",
       "      <th>blood_diseases</th>\n",
       "      <th>age</th>\n",
       "      <th>weight</th>\n",
       "      <th>hemoglobin_level</th>\n",
       "      <th>period_between_successive_blood_donations</th>\n",
       "      <th>temperature</th>\n",
       "      <th>pulse_rate</th>\n",
       "    </tr>\n",
       "  </thead>\n",
       "  <tbody>\n",
       "    <tr>\n",
       "      <th>0</th>\n",
       "      <td>1</td>\n",
       "      <td>68</td>\n",
       "      <td>67</td>\n",
       "      <td>14.7</td>\n",
       "      <td>26</td>\n",
       "      <td>36.5</td>\n",
       "      <td>86.1</td>\n",
       "    </tr>\n",
       "    <tr>\n",
       "      <th>1</th>\n",
       "      <td>0</td>\n",
       "      <td>31</td>\n",
       "      <td>76</td>\n",
       "      <td>13.5</td>\n",
       "      <td>23</td>\n",
       "      <td>36.5</td>\n",
       "      <td>56.7</td>\n",
       "    </tr>\n",
       "    <tr>\n",
       "      <th>2</th>\n",
       "      <td>0</td>\n",
       "      <td>45</td>\n",
       "      <td>83</td>\n",
       "      <td>16.3</td>\n",
       "      <td>22</td>\n",
       "      <td>38.3</td>\n",
       "      <td>96.9</td>\n",
       "    </tr>\n",
       "    <tr>\n",
       "      <th>3</th>\n",
       "      <td>0</td>\n",
       "      <td>30</td>\n",
       "      <td>74</td>\n",
       "      <td>12.6</td>\n",
       "      <td>4</td>\n",
       "      <td>38.1</td>\n",
       "      <td>90.9</td>\n",
       "    </tr>\n",
       "    <tr>\n",
       "      <th>4</th>\n",
       "      <td>0</td>\n",
       "      <td>25</td>\n",
       "      <td>58</td>\n",
       "      <td>14.9</td>\n",
       "      <td>9</td>\n",
       "      <td>36.3</td>\n",
       "      <td>55.9</td>\n",
       "    </tr>\n",
       "    <tr>\n",
       "      <th>...</th>\n",
       "      <td>...</td>\n",
       "      <td>...</td>\n",
       "      <td>...</td>\n",
       "      <td>...</td>\n",
       "      <td>...</td>\n",
       "      <td>...</td>\n",
       "      <td>...</td>\n",
       "    </tr>\n",
       "    <tr>\n",
       "      <th>4995</th>\n",
       "      <td>1</td>\n",
       "      <td>36</td>\n",
       "      <td>66</td>\n",
       "      <td>17.0</td>\n",
       "      <td>20</td>\n",
       "      <td>38.8</td>\n",
       "      <td>103.7</td>\n",
       "    </tr>\n",
       "    <tr>\n",
       "      <th>4996</th>\n",
       "      <td>0</td>\n",
       "      <td>68</td>\n",
       "      <td>86</td>\n",
       "      <td>16.5</td>\n",
       "      <td>13</td>\n",
       "      <td>35.8</td>\n",
       "      <td>56.4</td>\n",
       "    </tr>\n",
       "    <tr>\n",
       "      <th>4997</th>\n",
       "      <td>0</td>\n",
       "      <td>55</td>\n",
       "      <td>90</td>\n",
       "      <td>14.0</td>\n",
       "      <td>25</td>\n",
       "      <td>39.8</td>\n",
       "      <td>61.2</td>\n",
       "    </tr>\n",
       "    <tr>\n",
       "      <th>4998</th>\n",
       "      <td>0</td>\n",
       "      <td>63</td>\n",
       "      <td>47</td>\n",
       "      <td>15.3</td>\n",
       "      <td>20</td>\n",
       "      <td>35.2</td>\n",
       "      <td>56.2</td>\n",
       "    </tr>\n",
       "    <tr>\n",
       "      <th>4999</th>\n",
       "      <td>0</td>\n",
       "      <td>23</td>\n",
       "      <td>57</td>\n",
       "      <td>14.2</td>\n",
       "      <td>30</td>\n",
       "      <td>35.1</td>\n",
       "      <td>90.5</td>\n",
       "    </tr>\n",
       "  </tbody>\n",
       "</table>\n",
       "<p>5000 rows × 7 columns</p>\n",
       "</div>"
      ],
      "text/plain": [
       "      blood_diseases  age  weight  hemoglobin_level  \\\n",
       "0                  1   68      67              14.7   \n",
       "1                  0   31      76              13.5   \n",
       "2                  0   45      83              16.3   \n",
       "3                  0   30      74              12.6   \n",
       "4                  0   25      58              14.9   \n",
       "...              ...  ...     ...               ...   \n",
       "4995               1   36      66              17.0   \n",
       "4996               0   68      86              16.5   \n",
       "4997               0   55      90              14.0   \n",
       "4998               0   63      47              15.3   \n",
       "4999               0   23      57              14.2   \n",
       "\n",
       "      period_between_successive_blood_donations  temperature  pulse_rate  \n",
       "0                                            26         36.5        86.1  \n",
       "1                                            23         36.5        56.7  \n",
       "2                                            22         38.3        96.9  \n",
       "3                                             4         38.1        90.9  \n",
       "4                                             9         36.3        55.9  \n",
       "...                                         ...          ...         ...  \n",
       "4995                                         20         38.8       103.7  \n",
       "4996                                         13         35.8        56.4  \n",
       "4997                                         25         39.8        61.2  \n",
       "4998                                         20         35.2        56.2  \n",
       "4999                                         30         35.1        90.5  \n",
       "\n",
       "[5000 rows x 7 columns]"
      ]
     },
     "execution_count": 14,
     "metadata": {},
     "output_type": "execute_result"
    }
   ],
   "source": [
    "x"
   ]
  },
  {
   "cell_type": "code",
   "execution_count": 15,
   "id": "61198f96",
   "metadata": {},
   "outputs": [],
   "source": [
    "from sklearn.model_selection import train_test_split"
   ]
  },
  {
   "cell_type": "code",
   "execution_count": 16,
   "id": "6cc4b679",
   "metadata": {},
   "outputs": [],
   "source": [
    "x_train,x_test,y_train,y_test=train_test_split(x,y,test_size=0.2,stratify=y,random_state=2)"
   ]
  },
  {
   "cell_type": "code",
   "execution_count": 17,
   "id": "d3509869",
   "metadata": {},
   "outputs": [
    {
     "name": "stdout",
     "output_type": "stream",
     "text": [
      "(4000, 7) (1000, 7) (5000, 7)\n"
     ]
    }
   ],
   "source": [
    "print(x_train.shape,x_test.shape,x.shape)"
   ]
  },
  {
   "cell_type": "code",
   "execution_count": 18,
   "id": "93955539",
   "metadata": {},
   "outputs": [],
   "source": [
    "from sklearn.linear_model import LogisticRegression"
   ]
  },
  {
   "cell_type": "code",
   "execution_count": 19,
   "id": "2969b7b8",
   "metadata": {},
   "outputs": [],
   "source": [
    "model=LogisticRegression()"
   ]
  },
  {
   "cell_type": "code",
   "execution_count": 20,
   "id": "a8dcc0ce",
   "metadata": {},
   "outputs": [
    {
     "data": {
      "text/plain": [
       "LogisticRegression()"
      ]
     },
     "execution_count": 20,
     "metadata": {},
     "output_type": "execute_result"
    }
   ],
   "source": [
    "model"
   ]
  },
  {
   "cell_type": "code",
   "execution_count": 21,
   "id": "883bf19e",
   "metadata": {},
   "outputs": [
    {
     "data": {
      "text/html": [
       "<div>\n",
       "<style scoped>\n",
       "    .dataframe tbody tr th:only-of-type {\n",
       "        vertical-align: middle;\n",
       "    }\n",
       "\n",
       "    .dataframe tbody tr th {\n",
       "        vertical-align: top;\n",
       "    }\n",
       "\n",
       "    .dataframe thead th {\n",
       "        text-align: right;\n",
       "    }\n",
       "</style>\n",
       "<table border=\"1\" class=\"dataframe\">\n",
       "  <thead>\n",
       "    <tr style=\"text-align: right;\">\n",
       "      <th></th>\n",
       "      <th>blood_diseases</th>\n",
       "      <th>age</th>\n",
       "      <th>weight</th>\n",
       "      <th>hemoglobin_level</th>\n",
       "      <th>period_between_successive_blood_donations</th>\n",
       "      <th>temperature</th>\n",
       "      <th>pulse_rate</th>\n",
       "    </tr>\n",
       "  </thead>\n",
       "  <tbody>\n",
       "    <tr>\n",
       "      <th>3785</th>\n",
       "      <td>0</td>\n",
       "      <td>35</td>\n",
       "      <td>69</td>\n",
       "      <td>15.9</td>\n",
       "      <td>17</td>\n",
       "      <td>35.6</td>\n",
       "      <td>96.1</td>\n",
       "    </tr>\n",
       "    <tr>\n",
       "      <th>2177</th>\n",
       "      <td>0</td>\n",
       "      <td>67</td>\n",
       "      <td>50</td>\n",
       "      <td>15.0</td>\n",
       "      <td>9</td>\n",
       "      <td>39.1</td>\n",
       "      <td>85.3</td>\n",
       "    </tr>\n",
       "    <tr>\n",
       "      <th>3107</th>\n",
       "      <td>1</td>\n",
       "      <td>57</td>\n",
       "      <td>85</td>\n",
       "      <td>16.7</td>\n",
       "      <td>7</td>\n",
       "      <td>38.6</td>\n",
       "      <td>81.2</td>\n",
       "    </tr>\n",
       "    <tr>\n",
       "      <th>2036</th>\n",
       "      <td>1</td>\n",
       "      <td>65</td>\n",
       "      <td>47</td>\n",
       "      <td>12.5</td>\n",
       "      <td>25</td>\n",
       "      <td>39.0</td>\n",
       "      <td>54.7</td>\n",
       "    </tr>\n",
       "    <tr>\n",
       "      <th>1082</th>\n",
       "      <td>0</td>\n",
       "      <td>69</td>\n",
       "      <td>97</td>\n",
       "      <td>16.4</td>\n",
       "      <td>12</td>\n",
       "      <td>39.7</td>\n",
       "      <td>72.2</td>\n",
       "    </tr>\n",
       "    <tr>\n",
       "      <th>...</th>\n",
       "      <td>...</td>\n",
       "      <td>...</td>\n",
       "      <td>...</td>\n",
       "      <td>...</td>\n",
       "      <td>...</td>\n",
       "      <td>...</td>\n",
       "      <td>...</td>\n",
       "    </tr>\n",
       "    <tr>\n",
       "      <th>1855</th>\n",
       "      <td>1</td>\n",
       "      <td>47</td>\n",
       "      <td>99</td>\n",
       "      <td>15.2</td>\n",
       "      <td>0</td>\n",
       "      <td>38.8</td>\n",
       "      <td>74.9</td>\n",
       "    </tr>\n",
       "    <tr>\n",
       "      <th>665</th>\n",
       "      <td>1</td>\n",
       "      <td>47</td>\n",
       "      <td>81</td>\n",
       "      <td>15.7</td>\n",
       "      <td>19</td>\n",
       "      <td>40.0</td>\n",
       "      <td>72.3</td>\n",
       "    </tr>\n",
       "    <tr>\n",
       "      <th>993</th>\n",
       "      <td>1</td>\n",
       "      <td>39</td>\n",
       "      <td>87</td>\n",
       "      <td>14.0</td>\n",
       "      <td>6</td>\n",
       "      <td>39.7</td>\n",
       "      <td>93.2</td>\n",
       "    </tr>\n",
       "    <tr>\n",
       "      <th>3011</th>\n",
       "      <td>1</td>\n",
       "      <td>30</td>\n",
       "      <td>57</td>\n",
       "      <td>14.2</td>\n",
       "      <td>9</td>\n",
       "      <td>36.5</td>\n",
       "      <td>97.0</td>\n",
       "    </tr>\n",
       "    <tr>\n",
       "      <th>2971</th>\n",
       "      <td>1</td>\n",
       "      <td>59</td>\n",
       "      <td>96</td>\n",
       "      <td>12.5</td>\n",
       "      <td>14</td>\n",
       "      <td>35.6</td>\n",
       "      <td>71.5</td>\n",
       "    </tr>\n",
       "  </tbody>\n",
       "</table>\n",
       "<p>4000 rows × 7 columns</p>\n",
       "</div>"
      ],
      "text/plain": [
       "      blood_diseases  age  weight  hemoglobin_level  \\\n",
       "3785               0   35      69              15.9   \n",
       "2177               0   67      50              15.0   \n",
       "3107               1   57      85              16.7   \n",
       "2036               1   65      47              12.5   \n",
       "1082               0   69      97              16.4   \n",
       "...              ...  ...     ...               ...   \n",
       "1855               1   47      99              15.2   \n",
       "665                1   47      81              15.7   \n",
       "993                1   39      87              14.0   \n",
       "3011               1   30      57              14.2   \n",
       "2971               1   59      96              12.5   \n",
       "\n",
       "      period_between_successive_blood_donations  temperature  pulse_rate  \n",
       "3785                                         17         35.6        96.1  \n",
       "2177                                          9         39.1        85.3  \n",
       "3107                                          7         38.6        81.2  \n",
       "2036                                         25         39.0        54.7  \n",
       "1082                                         12         39.7        72.2  \n",
       "...                                         ...          ...         ...  \n",
       "1855                                          0         38.8        74.9  \n",
       "665                                          19         40.0        72.3  \n",
       "993                                           6         39.7        93.2  \n",
       "3011                                          9         36.5        97.0  \n",
       "2971                                         14         35.6        71.5  \n",
       "\n",
       "[4000 rows x 7 columns]"
      ]
     },
     "execution_count": 21,
     "metadata": {},
     "output_type": "execute_result"
    }
   ],
   "source": [
    "x_train"
   ]
  },
  {
   "cell_type": "code",
   "execution_count": 22,
   "id": "c009eb5c",
   "metadata": {},
   "outputs": [
    {
     "data": {
      "text/plain": [
       "3785    1\n",
       "2177    0\n",
       "3107    0\n",
       "2036    0\n",
       "1082    0\n",
       "       ..\n",
       "1855    0\n",
       "665     0\n",
       "993     0\n",
       "3011    1\n",
       "2971    1\n",
       "Name: can, Length: 4000, dtype: int32"
      ]
     },
     "execution_count": 22,
     "metadata": {},
     "output_type": "execute_result"
    }
   ],
   "source": [
    "y_train"
   ]
  },
  {
   "cell_type": "code",
   "execution_count": 23,
   "id": "2864a8e1",
   "metadata": {},
   "outputs": [
    {
     "name": "stderr",
     "output_type": "stream",
     "text": [
      "C:\\Users\\aleks\\anaconda3\\lib\\site-packages\\sklearn\\linear_model\\_logistic.py:763: ConvergenceWarning: lbfgs failed to converge (status=1):\n",
      "STOP: TOTAL NO. of ITERATIONS REACHED LIMIT.\n",
      "\n",
      "Increase the number of iterations (max_iter) or scale the data as shown in:\n",
      "    https://scikit-learn.org/stable/modules/preprocessing.html\n",
      "Please also refer to the documentation for alternative solver options:\n",
      "    https://scikit-learn.org/stable/modules/linear_model.html#logistic-regression\n",
      "  n_iter_i = _check_optimize_result(\n"
     ]
    },
    {
     "data": {
      "text/plain": [
       "LogisticRegression()"
      ]
     },
     "execution_count": 23,
     "metadata": {},
     "output_type": "execute_result"
    }
   ],
   "source": [
    "model.fit(x_train,y_train)"
   ]
  },
  {
   "cell_type": "code",
   "execution_count": 24,
   "id": "30a73fba",
   "metadata": {},
   "outputs": [],
   "source": [
    "from sklearn.metrics import accuracy_score"
   ]
  },
  {
   "cell_type": "code",
   "execution_count": 25,
   "id": "666c0e8f",
   "metadata": {},
   "outputs": [],
   "source": [
    "x_train_prediction=model.predict(x_train)\n",
    "training_data_accuracy = accuracy_score(x_train_prediction,y_train)"
   ]
  },
  {
   "cell_type": "code",
   "execution_count": 26,
   "id": "bb69f4b0",
   "metadata": {},
   "outputs": [
    {
     "name": "stdout",
     "output_type": "stream",
     "text": [
      "Accurracy on Test data : 0.81175\n"
     ]
    }
   ],
   "source": [
    "print(\"Accurracy on Test data :\",training_data_accuracy)"
   ]
  },
  {
   "cell_type": "code",
   "execution_count": 27,
   "id": "cce13ea6",
   "metadata": {},
   "outputs": [],
   "source": [
    "x_test_prediction=model.predict(x_test)\n",
    "test_data_accuracy = accuracy_score(x_test_prediction,y_test)"
   ]
  },
  {
   "cell_type": "code",
   "execution_count": 28,
   "id": "f87fe678",
   "metadata": {},
   "outputs": [
    {
     "name": "stdout",
     "output_type": "stream",
     "text": [
      "Accurracy on Test data : 0.816\n"
     ]
    }
   ],
   "source": [
    "print(\"Accurracy on Test data :\",test_data_accuracy)"
   ]
  },
  {
   "cell_type": "code",
   "execution_count": 31,
   "id": "d0343cf1",
   "metadata": {},
   "outputs": [
    {
     "name": "stdout",
     "output_type": "stream",
     "text": [
      "[0]\n"
     ]
    }
   ],
   "source": [
    "prep=model.predict([[1,68,67,14.7,26,36.5,86.1]])\n",
    "print(prep)"
   ]
  },
  {
   "cell_type": "code",
   "execution_count": 32,
   "id": "06facf11",
   "metadata": {},
   "outputs": [],
   "source": [
    "import pickle"
   ]
  },
  {
   "cell_type": "code",
   "execution_count": 33,
   "id": "1e60d1f8",
   "metadata": {},
   "outputs": [],
   "source": [
    "with open('model.pkl','wb') as files:\n",
    "    pickle.dump(model,files)"
   ]
  },
  {
   "cell_type": "code",
   "execution_count": null,
   "id": "ee501ae5",
   "metadata": {},
   "outputs": [],
   "source": []
  }
 ],
 "metadata": {
  "kernelspec": {
   "display_name": "Python 3",
   "language": "python",
   "name": "python3"
  },
  "language_info": {
   "codemirror_mode": {
    "name": "ipython",
    "version": 3
   },
   "file_extension": ".py",
   "mimetype": "text/x-python",
   "name": "python",
   "nbconvert_exporter": "python",
   "pygments_lexer": "ipython3",
   "version": "3.8.8"
  }
 },
 "nbformat": 4,
 "nbformat_minor": 5
}
